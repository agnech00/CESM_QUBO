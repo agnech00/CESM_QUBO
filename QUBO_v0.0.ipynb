{
 "cells": [
  {
   "cell_type": "markdown",
   "id": "9c5f0b68",
   "metadata": {},
   "source": [
    "D-wave classes"
   ]
  },
  {
   "cell_type": "code",
   "execution_count": 6,
   "id": "45ff4d63",
   "metadata": {},
   "outputs": [],
   "source": [
    "import dimod #interface for D-wave\n",
    "import neal  #simulator"
   ]
  },
  {
   "cell_type": "markdown",
   "id": "a9232ea3",
   "metadata": {},
   "source": [
    "Calling the D-wave solver (online version)"
   ]
  },
  {
   "cell_type": "code",
   "execution_count": 2,
   "id": "63070052",
   "metadata": {},
   "outputs": [
    {
     "data": {
      "text/plain": [
       "[StructuredSolver(id='DW_2000Q_6'),\n",
       " StructuredSolver(id='Advantage_system1.1'),\n",
       " BQMSolver(id='hybrid_binary_quadratic_model_version2'),\n",
       " DQMSolver(id='hybrid_discrete_quadratic_model_version1')]"
      ]
     },
     "execution_count": 2,
     "metadata": {},
     "output_type": "execute_result"
    }
   ],
   "source": [
    "from dwave.cloud import Client\n",
    "client = Client.from_config(token='DEV-07b560f049be639f749f1b61d5ca72b784546fd6')\n",
    "client.get_solvers()"
   ]
  },
  {
   "cell_type": "markdown",
   "id": "c2c86ee5",
   "metadata": {},
   "source": [
    "Scientific python libraries"
   ]
  },
  {
   "cell_type": "code",
   "execution_count": 1,
   "id": "ce4514e9",
   "metadata": {},
   "outputs": [],
   "source": [
    "import numpy as np              #scientific library\n",
    "from numpy import linalg as LA  #linear algebra package\n",
    "import matplotlib.pyplot as plt #plot library"
   ]
  },
  {
   "cell_type": "markdown",
   "id": "5fc217f3",
   "metadata": {},
   "source": [
    "Input"
   ]
  },
  {
   "cell_type": "code",
   "execution_count": 39,
   "id": "e06de9cb",
   "metadata": {},
   "outputs": [],
   "source": [
    "dim_matrix  =18       #dimension of the matrix  \n",
    "num_of_bits =2       #number of bits used for diagonalization\n",
    "num_of_reads=50      #number of reads from the simulator\n",
    "zero_energy =True    #first part of the algorithm you use only the zero energy (True) or the full response (False) \n",
    "beta        =100     #beta used for weighting the full response\n",
    "epsilon_tol =0.001   #tollerance (the precision of the eigenvlue)"
   ]
  },
  {
   "cell_type": "markdown",
   "id": "9da6dbf4",
   "metadata": {},
   "source": [
    "Precision vector and precision matrix "
   ]
  },
  {
   "cell_type": "code",
   "execution_count": 31,
   "id": "5052670a",
   "metadata": {},
   "outputs": [],
   "source": [
    "p=np.empty([num_of_bits])\n",
    "p[0]=-1\n",
    "for b in range(2,num_of_bits+1):\n",
    "    p[b-1]=2**(-b+1)\n",
    "P=np.empty([dim_matrix,dim_matrix*num_of_bits])\n",
    "P[:][:]=0\n",
    "for i in range(dim_matrix):\n",
    "    P[i][i*num_of_bits:(i+1)*num_of_bits]=p[:]"
   ]
  },
  {
   "cell_type": "markdown",
   "id": "68087bdc",
   "metadata": {},
   "source": [
    "Function for writing arrays and vectors in the binary basis"
   ]
  },
  {
   "cell_type": "code",
   "execution_count": 32,
   "id": "bebb74c9",
   "metadata": {},
   "outputs": [],
   "source": [
    "def bin_matrix(A,prec):                       #prec=precision-->needed in the second part of the algorithm\n",
    "    QA=prec**2*np.matmul(P.T,np.matmul(A,P))\n",
    "    return QA\n",
    "def bin_vector(v,prec):\n",
    "    Qv=prec*np.matmul(v.T,P)\n",
    "    return Qv"
   ]
  },
  {
   "cell_type": "markdown",
   "id": "ff870965",
   "metadata": {},
   "source": [
    "This comand select the anealer (simulator in this case)"
   ]
  },
  {
   "cell_type": "code",
   "execution_count": 33,
   "id": "04da9a75",
   "metadata": {},
   "outputs": [],
   "source": [
    "sampler = neal.SimulatedAnnealingSampler()"
   ]
  },
  {
   "cell_type": "markdown",
   "id": "9d4b2094",
   "metadata": {},
   "source": [
    "Here we define the matrix to diagonalize and we compute for test the first eigenvector and first eigenvalue"
   ]
  },
  {
   "cell_type": "code",
   "execution_count": 34,
   "id": "899fe68e",
   "metadata": {},
   "outputs": [
    {
     "name": "stdout",
     "output_type": "stream",
     "text": [
      "First eignevalue =  -20.33834450366579\n",
      "First eigenvector=  [-0.04231937  0.05425357 -0.26296477  0.01841736 -0.34848684 -0.25804524\n",
      " -0.18594637  0.28274039 -0.16145818 -0.34740964 -0.30821202  0.14002037\n",
      " -0.11329408  0.53446465 -0.23316614 -0.09492274]\n"
     ]
    }
   ],
   "source": [
    "#definition of the matrix (random)\n",
    "I=np.eye(dim_matrix,dim_matrix)\n",
    "np.random.seed(1234)\n",
    "A=10*(np.random.rand(dim_matrix,dim_matrix)-0.5)\n",
    "for i in range(dim_matrix):\n",
    "    for j in range(dim_matrix):\n",
    "        A[j][i]=A[i][j]\n",
    "#eigenvalue and eigenvector computation\n",
    "eval,evec=LA.eigh(A)\n",
    "evec0=evec[::,0]\n",
    "print(\"First eignevalue = \",eval[0])\n",
    "print(\"First eigenvector= \",evec0)"
   ]
  },
  {
   "cell_type": "markdown",
   "id": "b0029227",
   "metadata": {},
   "source": [
    "Function for plotting"
   ]
  },
  {
   "cell_type": "code",
   "execution_count": 49,
   "id": "b99434b3",
   "metadata": {},
   "outputs": [],
   "source": [
    "devec=[0]\n",
    "deval=[0]\n",
    "dprec=[0]\n",
    "def plot(j,lam,v,prec):\n",
    "    devec.append(-np.log10(np.sqrt(np.sum((v-evec0)**2)))) #distance among the vectors\n",
    "    deval.append(-np.log10(abs(eval[0]-lam)))\n",
    "    dprec.append(-np.log10(prec))"
   ]
  },
  {
   "cell_type": "markdown",
   "id": "b01d4f27",
   "metadata": {},
   "source": [
    "First part of the algorithm: initial guess phase"
   ]
  },
  {
   "cell_type": "code",
   "execution_count": 50,
   "id": "ee9e5eb8",
   "metadata": {},
   "outputs": [
    {
     "name": "stdout",
     "output_type": "stream",
     "text": [
      "Iteration=  0 Starting eigenvalue = -20.2\n",
      "exit loop\n",
      "End of the initial guess part\n",
      "Eigenvalue =  -20.2\n",
      "Eigenvector=  [ 0.04397007 -0.05976059  0.25873448 -0.01825842  0.34560481  0.25696054\n",
      "  0.18137524 -0.29062206  0.16166229  0.35568726  0.30254077 -0.14314122\n",
      "  0.10904235 -0.53617533  0.22899717  0.08891838]\n"
     ]
    }
   ],
   "source": [
    "lam=10**6\n",
    "tmp_lam=-20.2#np.trace(A)/dim_matrix\n",
    "print(\"Iteration= \",0,\"Starting eigenvalue =\", tmp_lam)\n",
    "j=0\n",
    "while tmp_lam < lam:\n",
    "    j=j+1\n",
    "    lam=tmp_lam\n",
    "    #Rewriting the matrix in binary form\n",
    "    QA=bin_matrix(A-lam*I,1) \n",
    "    #Transform our matrix in one managable by the D-wave                                                                                                              \n",
    "    A_bqm = dimod.BinaryQuadraticModel.from_qubo(QA,offset=0.0)\n",
    "    #Sampling                                                                                                                                                         \n",
    "    sampleset = sampler.sample(A_bqm,num_reads=num_of_reads,beta_range=[0.1, 4.2],seed=3456)\n",
    "    #Sample database                                                                                                                                                  \n",
    "    rsample=sampleset.record\n",
    "    #selecting the state with energy zero                                                                                                                                                   \n",
    "    energy0=10**6\n",
    "    for i in range(num_of_reads):\n",
    "        energy=rsample[i][1]\n",
    "        if(energy<energy0):\n",
    "            energy0=energy\n",
    "            indx=i\n",
    "    if(zero_energy):                  #only state with zero energy is selected                                                                                     \n",
    "        x=np.array(rsample[indx][0])\n",
    "    else:                             #linear comination of the full response\n",
    "        E0=rsample[indx][1]\n",
    "        x=np.empty([dim_matrix*num_of_bits])\n",
    "        for i in range(num_of_reads):\n",
    "            x=x+np.exp(-beta*(rsample[i][1]-E0))*rsample[i][0]\n",
    "        x=x/num_of_reads\n",
    "    if(np.matmul(x.T,x)<10**(-16)):   #if the best eigenvector is zero exit the loop\n",
    "        print(\"exit loop\")\n",
    "        break\n",
    "    tmp_v=np.matmul(P,x)                           #new eigenvector\n",
    "    tmp_v_norm=np.sqrt(np.matmul(tmp_v.T,tmp_v))\n",
    "    tmp_v=tmp_v/tmp_v_norm\n",
    "    tmp_lam=np.matmul(tmp_v.T,np.matmul(A,tmp_v))  #new eigenvalue\n",
    "    if(tmp_lam < lam):\n",
    "        v=tmp_v\n",
    "    print(\"Iteration= \",j,\" old value= \",lam,\" new value= \",tmp_lam)\n",
    "print(\"End of the initial guess part\")\n",
    "print(\"Eigenvalue = \",lam)\n",
    "print(\"Eigenvector= \",v)"
   ]
  },
  {
   "cell_type": "markdown",
   "id": "6e2958a0",
   "metadata": {},
   "source": [
    "Iterative desendent phase"
   ]
  },
  {
   "cell_type": "code",
   "execution_count": 51,
   "id": "093eec3d",
   "metadata": {},
   "outputs": [
    {
     "name": "stdout",
     "output_type": "stream",
     "text": [
      "Iteration=  1 new precision =  0.010000000000000002\n",
      "Iteration=  2  old value=  -20.2  new value=  -20.32474120238875\n",
      "Iteration=  3 new precision =  0.0010000000000000002\n",
      "Iteration=  4  old value=  -20.32474120238875  new value=  -20.325848516957038\n",
      "Iteration=  5  old value=  -20.325848516957038  new value=  -20.326282905395246\n",
      "Iteration=  6  old value=  -20.326282905395246  new value=  -20.32628625309806\n",
      "Iteration=  7  old value=  -20.32628625309806  new value=  -20.326724690378086\n",
      "Iteration=  8  old value=  -20.326724690378086  new value=  -20.32691925618251\n",
      "Iteration=  9  old value=  -20.32691925618251  new value=  -20.3270908616975\n",
      "Iteration=  10 new precision =  0.00010000000000000003\n",
      "Final values\n",
      "Eigenvalue =  -20.3270908616975\n",
      "Eigenvector=  [ 0.03868927 -0.07003791  0.26114028 -0.01732146  0.34491106  0.25659798\n",
      "  0.17904425 -0.29322433  0.1623366   0.35567748  0.29915211 -0.14858631\n",
      "  0.10095336 -0.53496857  0.23113711  0.08957228]\n"
     ]
    }
   ],
   "source": [
    "j=0\n",
    "precision=0.1                     #precision\n",
    "while precision > epsilon_tol:                                                                                                                                                          \n",
    "    j=j+1\n",
    "    #Preparing the descendent direction\n",
    "    H=A-lam*I\n",
    "    vH=2.0*np.matmul(v.T,H)    \n",
    "    QH=bin_matrix(H,precision)\n",
    "    QvH=bin_vector(vH,precision)\n",
    "    for i in range(dim_matrix*num_of_bits):\n",
    "        QH[i][i]=QH[i][i]+QvH[i]\n",
    "    #Transform our matrix in one managable by the D-wave                                                                                                              \n",
    "    A_bqm = dimod.BinaryQuadraticModel.from_qubo(QH,offset=0.0)\n",
    "    #Sampling                                                                                                                                                         \n",
    "    sampleset = sampler.sample(A_bqm,num_reads=num_of_reads,beta_range=[0.1, 4.2],seed=3456)\n",
    "    #Sample database                                                                                                                                                  \n",
    "    rsample=sampleset.record\n",
    "    #Select the zero energy state                                                                                                                                                   \n",
    "    energy0=10**6\n",
    "    for i in range(num_of_reads):\n",
    "        energy=rsample[i][1]\n",
    "        if(energy<energy0):\n",
    "            energy0=energy\n",
    "            indx=i                                                \n",
    "    x=np.array(rsample[indx][0])\n",
    "    delta=precision*np.matmul(P,x)       #delta vector\n",
    "    delta=delta-np.matmul(delta.T,v)*v   #selcting the orthogonal part\n",
    "    #Line search step\n",
    "    Hd=np.matmul(H,delta)                                                                                                                          \n",
    "    if(np.matmul(delta.T,delta)<10**(-16)):                                                                                                                              \n",
    "        precision=precision*0.1\n",
    "        plot(j,lam,v,precision)\n",
    "        print(\"Iteration= \",j,\"new precision = \",precision)\n",
    "        continue\n",
    "    tmin=-np.matmul(v.T,Hd)/np.matmul(delta,Hd)\n",
    "    tmin=max(tmin,1)                                                                                                                                     \n",
    "    delta=delta*tmin\n",
    "    #new eigenvector\n",
    "    tmp_v=v+delta\n",
    "    tmp_norm=np.sqrt(np.matmul(tmp_v.T,tmp_v))\n",
    "    tmp_v=tmp_v/tmp_norm\n",
    "    #new eigenvalue\n",
    "    tmp_lam=np.matmul(tmp_v.T,np.matmul(A,tmp_v))\n",
    "    if(tmp_lam<lam):\n",
    "        v=tmp_v\n",
    "        print(\"Iteration= \",j,\" old value= \",lam,\" new value= \",tmp_lam)\n",
    "        lam=tmp_lam\n",
    "        plot(j,lam,v,precision)\n",
    "    else:\n",
    "        precision=precision*0.1\n",
    "        print(\"Iteration= \",j,\"new precision = \",precision)\n",
    "        plot(j,lam,v,precision)\n",
    "print(\"Final values\")\n",
    "print(\"Eigenvalue = \",lam)\n",
    "print(\"Eigenvector= \",v)"
   ]
  },
  {
   "cell_type": "markdown",
   "id": "9cb57735",
   "metadata": {},
   "source": [
    "Plotting"
   ]
  },
  {
   "cell_type": "code",
   "execution_count": 52,
   "id": "b6a0671c",
   "metadata": {},
   "outputs": [
    {
     "data": {
      "text/plain": [
       "<function matplotlib.pyplot.show(close=None, block=None)>"
      ]
     },
     "execution_count": 52,
     "metadata": {},
     "output_type": "execute_result"
    },
    {
     "data": {
      "image/png": "[encoded data removed]",
      "text/plain": [
       "<Figure size 432x288 with 1 Axes>"
      ]
     },
     "metadata": {
      "needs_background": "light"
     },
     "output_type": "display_data"
    }
   ],
   "source": [
    "plt.plot(devec,label='eigvec prec')\n",
    "plt.plot(deval,label='eigval prec')\n",
    "plt.plot(dprec,label='precision')\n",
    "plt.legend()\n",
    "plt.xlabel(\"Iterations\")\n",
    "plt.ylabel(\"Precision\")\n",
    "plt.show"
   ]
  },
  {
   "cell_type": "code",
   "execution_count": null,
   "id": "7e302e82",
   "metadata": {},
   "outputs": [],
   "source": []
  }
 ],
 "metadata": {
  "kernelspec": {
   "display_name": "ocean",
   "language": "python",
   "name": "ocean"
  },
  "language_info": {
   "codemirror_mode": {
    "name": "ipython",
    "version": 3
   },
   "file_extension": ".py",
   "mimetype": "text/x-python",
   "name": "python",
   "nbconvert_exporter": "python",
   "pygments_lexer": "ipython3",
   "version": "3.8.10"
  }
 },
 "nbformat": 4,
 "nbformat_minor": 5
}
