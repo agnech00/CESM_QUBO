{
 "cells": [
  {
   "cell_type": "code",
   "execution_count": 1,
   "id": "29e7a076",
   "metadata": {},
   "outputs": [
    {
     "ename": "ModuleNotFoundError",
     "evalue": "No module named 'neal'",
     "output_type": "error",
     "traceback": [
      "\u001b[0;31m---------------------------------------------------------------------------\u001b[0m",
      "\u001b[0;31mModuleNotFoundError\u001b[0m                       Traceback (most recent call last)",
      "\u001b[0;32m/tmp/ipykernel_15043/3593655572.py\u001b[0m in \u001b[0;36m<module>\u001b[0;34m\u001b[0m\n\u001b[0;32m----> 1\u001b[0;31m \u001b[0;32mimport\u001b[0m \u001b[0mneal\u001b[0m\u001b[0;34m\u001b[0m\u001b[0;34m\u001b[0m\u001b[0m\n\u001b[0m\u001b[1;32m      2\u001b[0m \u001b[0;32mimport\u001b[0m \u001b[0mnumpy\u001b[0m \u001b[0;32mas\u001b[0m \u001b[0mnp\u001b[0m\u001b[0;34m\u001b[0m\u001b[0;34m\u001b[0m\u001b[0m\n\u001b[1;32m      3\u001b[0m \u001b[0;32mfrom\u001b[0m \u001b[0mnumpy\u001b[0m \u001b[0;32mimport\u001b[0m \u001b[0mlinalg\u001b[0m \u001b[0;32mas\u001b[0m \u001b[0mLA\u001b[0m\u001b[0;34m\u001b[0m\u001b[0;34m\u001b[0m\u001b[0m\n",
      "\u001b[0;31mModuleNotFoundError\u001b[0m: No module named 'neal'"
     ]
    }
   ],
   "source": [
    "import neal\n",
    "import numpy as np\n",
    "from numpy import linalg as LA"
   ]
  },
  {
   "cell_type": "markdown",
   "id": "3cfa359c",
   "metadata": {},
   "source": [
    "Here we define the dimension of the matrix we have and the number of bits used in the computation"
   ]
  },
  {
   "cell_type": "code",
   "execution_count": 2,
   "id": "f4c0b82f",
   "metadata": {},
   "outputs": [],
   "source": [
    "dim_matrix=2\n",
    "num_of_bits=2"
   ]
  },
  {
   "cell_type": "markdown",
   "id": "e9eaf0bd",
   "metadata": {},
   "source": [
    "Define p vector and P matrix"
   ]
  },
  {
   "cell_type": "code",
   "execution_count": 3,
   "id": "8e0ade10",
   "metadata": {},
   "outputs": [],
   "source": [
    "p=np.empty([num_of_bits])\n",
    "p[0]=-1\n",
    "for b in range(2,num_of_bits+1):\n",
    "    p[b-1]=2**(-b+1) \n",
    "P=np.empty([dim_matrix,dim_matrix*num_of_bits])\n",
    "P[:][:]=0\n",
    "for i in range(dim_matrix):\n",
    "    P[i][i*num_of_bits:(i+1)*num_of_bits]=p[:]"
   ]
  },
  {
   "cell_type": "markdown",
   "id": "907f9767",
   "metadata": {},
   "source": [
    "Writing the array in the binary basis"
   ]
  },
  {
   "cell_type": "code",
   "execution_count": 7,
   "id": "db9b62d7",
   "metadata": {},
   "outputs": [],
   "source": [
    "def bin_matrix(A):\n",
    "    QA=np.matmul(P.T,np.matmul(A,P))\n",
    "    return QA"
   ]
  },
  {
   "cell_type": "markdown",
   "id": "2d75d9f6",
   "metadata": {},
   "source": [
    "Random array A. The matrix we want diagonalize!"
   ]
  },
  {
   "cell_type": "code",
   "execution_count": 8,
   "id": "4e30e9f1",
   "metadata": {},
   "outputs": [
    {
     "name": "stdout",
     "output_type": "stream",
     "text": [
      "[[ 4.85105024 -1.2476392 ]\n",
      " [-1.2476392   1.48197036]]\n",
      "[[1. 0.]\n",
      " [0. 1.]] [1.07025688 5.26276372] [[-0.31337233 -0.94963034]\n",
      " [-0.94963034  0.31337233]]\n"
     ]
    }
   ],
   "source": [
    "I=np.eye(dim_matrix,dim_matrix)\n",
    "A=10*(np.random.rand(dim_matrix,dim_matrix)-0.5)\n",
    "for i in range(dim_matrix):\n",
    "    for j in range(dim_matrix):\n",
    "        A[j][i]=A[i][j]\n",
    "print(A)\n",
    "w,v=LA.eigh(A)\n",
    "print(I,w,v)"
   ]
  },
  {
   "cell_type": "markdown",
   "id": "e2288559",
   "metadata": {},
   "source": [
    "Compute trace"
   ]
  },
  {
   "cell_type": "code",
   "execution_count": 9,
   "id": "bbfc2f05",
   "metadata": {},
   "outputs": [
    {
     "name": "stdout",
     "output_type": "stream",
     "text": [
      "3.1665102998178027\n",
      "[[ 1.68453994 -0.84226997 -1.2476392   0.6238196 ]\n",
      " [-0.84226997  0.42113499  0.6238196  -0.3119098 ]\n",
      " [-1.2476392   0.6238196  -1.68453994  0.84226997]\n",
      " [ 0.6238196  -0.3119098   0.84226997 -0.42113499]]\n"
     ]
    }
   ],
   "source": [
    "lam=np.trace(A)/dim_matrix\n",
    "print(lam)\n",
    "QA=bin_matrix(A-lam*I)\n",
    "print(QA)"
   ]
  },
  {
   "cell_type": "code",
   "execution_count": null,
   "id": "6090d300",
   "metadata": {},
   "outputs": [],
   "source": []
  },
  {
   "cell_type": "code",
   "execution_count": null,
   "id": "bc5e803d",
   "metadata": {},
   "outputs": [],
   "source": []
  }
 ],
 "metadata": {
  "kernelspec": {
   "display_name": "Python 3 (ipykernel)",
   "language": "python",
   "name": "python3"
  },
  "language_info": {
   "codemirror_mode": {
    "name": "ipython",
    "version": 3
   },
   "file_extension": ".py",
   "mimetype": "text/x-python",
   "name": "python",
   "nbconvert_exporter": "python",
   "pygments_lexer": "ipython3",
   "version": "3.8.10"
  }
 },
 "nbformat": 4,
 "nbformat_minor": 5
}
