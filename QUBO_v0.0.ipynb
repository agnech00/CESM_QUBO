{
 "cells": [
  {
   "cell_type": "markdown",
   "id": "9c5f0b68",
   "metadata": {},
   "source": [
    "D-wave classes"
   ]
  },
  {
   "cell_type": "code",
   "execution_count": 16,
   "id": "45ff4d63",
   "metadata": {},
   "outputs": [],
   "source": [
    "#important:you need to enable the ocean virtual enviroment to run this code\n",
    "import dimod #interface for D-wave\n",
    "import neal  #simulator\n",
    "from dwave.system import (DWaveSampler, EmbeddingComposite) #QPU sampler"
   ]
  },
  {
   "cell_type": "markdown",
   "id": "a9232ea3",
   "metadata": {},
   "source": [
    "Calling the D-wave solver (online version)"
   ]
  },
  {
   "cell_type": "code",
   "execution_count": 17,
   "id": "63070052",
   "metadata": {},
   "outputs": [
    {
     "data": {
      "text/plain": [
       "[StructuredSolver(id='DW_2000Q_6'),\n",
       " BQMSolver(id='hybrid_binary_quadratic_model_version2'),\n",
       " DQMSolver(id='hybrid_discrete_quadratic_model_version1'),\n",
       " StructuredSolver(id='Advantage_system1.1')]"
      ]
     },
     "execution_count": 17,
     "metadata": {},
     "output_type": "execute_result"
    }
   ],
   "source": [
    "from dwave.cloud import Client\n",
    "client = Client.from_config(token='')#insert your own token\n",
    "client.get_solvers()"
   ]
  },
  {
   "cell_type": "markdown",
   "id": "c2c86ee5",
   "metadata": {},
   "source": [
    "Scientific python libraries"
   ]
  },
  {
   "cell_type": "code",
   "execution_count": 18,
   "id": "ce4514e9",
   "metadata": {},
   "outputs": [],
   "source": [
    "import numpy as np              #scientific library\n",
    "from scipy.linalg import eigh   #generalized eigenvalue solver\n",
    "import matplotlib.pyplot as plt #plot library"
   ]
  },
  {
   "cell_type": "markdown",
   "id": "5fc217f3",
   "metadata": {},
   "source": [
    "Input"
   ]
  },
  {
   "cell_type": "code",
   "execution_count": 72,
   "id": "e06de9cb",
   "metadata": {},
   "outputs": [],
   "source": [
    "dim_matrix  =16      #dimension of the matrix  \n",
    "num_of_bits =2       #number of bits used for diagonalization\n",
    "num_of_reads=10      #number of reads from the simulator\n",
    "zero_energy =True    #if only the state zero is used for computing the eigenvalue in the first part of the code \n",
    "beta        =100     #beta used for weighting the full response\n",
    "epsilon_tol =0.001   #tollerance (the precision of the eigenvlue)\n",
    "generalized =True    #True/False if you want to study a generalized/not generalized eigenvalue problem \n",
    "qpu_sampler =True    #True-->D_wave sampler False--> simulator"
   ]
  },
  {
   "cell_type": "markdown",
   "id": "9da6dbf4",
   "metadata": {},
   "source": [
    "Precision vector and precision matrix "
   ]
  },
  {
   "cell_type": "code",
   "execution_count": 73,
   "id": "5052670a",
   "metadata": {},
   "outputs": [],
   "source": [
    "p=np.empty([num_of_bits])\n",
    "p[0]=-1\n",
    "for b in range(2,num_of_bits+1):\n",
    "    p[b-1]=2**(-b+1)\n",
    "P=np.empty([dim_matrix,dim_matrix*num_of_bits])\n",
    "P[:][:]=0\n",
    "for i in range(dim_matrix):\n",
    "    P[i][i*num_of_bits:(i+1)*num_of_bits]=p[:]"
   ]
  },
  {
   "cell_type": "markdown",
   "id": "68087bdc",
   "metadata": {},
   "source": [
    "Function for writing arrays and vectors in the binary basis"
   ]
  },
  {
   "cell_type": "code",
   "execution_count": 74,
   "id": "bebb74c9",
   "metadata": {},
   "outputs": [],
   "source": [
    "def bin_matrix(A,prec):                       #prec=precision-->needed in the second part of the algorithm\n",
    "    QA=prec**2*np.matmul(P.T,np.matmul(A,P))\n",
    "    return QA\n",
    "def bin_vector(v,prec):\n",
    "    Qv=prec*np.matmul(v.T,P)\n",
    "    return Qv"
   ]
  },
  {
   "cell_type": "markdown",
   "id": "ff870965",
   "metadata": {},
   "source": [
    "This comand select the anealer (simulator in this case)"
   ]
  },
  {
   "cell_type": "code",
   "execution_count": 75,
   "id": "04da9a75",
   "metadata": {},
   "outputs": [],
   "source": [
    "if(not qpu_sampler):\n",
    "    sampler = neal.SimulatedAnnealingSampler()#simulator (it sucks!)\n",
    "else:\n",
    "    sampler = EmbeddingComposite(DWaveSampler())#For what I have unerstood this command call the sampler\n",
    "#and it maps your problem on the proper map of the annealer\n",
    "\n",
    "#sampler.properties #properties of the sampler"
   ]
  },
  {
   "cell_type": "markdown",
   "id": "9d4b2094",
   "metadata": {},
   "source": [
    "Here we define the matrix to diagonalize and we compute for test the first eigenvector and first eigenvalue"
   ]
  },
  {
   "cell_type": "code",
   "execution_count": 76,
   "id": "899fe68e",
   "metadata": {},
   "outputs": [
    {
     "name": "stdout",
     "output_type": "stream",
     "text": [
      "First eignevalue =  -0.7664609673279167\n",
      "First eigenvector=  [-0.06726356  0.10531991  0.02561992 -0.03472812  0.04656561 -0.0639928\n",
      " -0.04157228  0.02079627  0.03483811  0.07074011 -0.07691374 -0.03030021\n",
      " -0.05230719  0.11567379 -0.08849601  0.00100924]\n"
     ]
    }
   ],
   "source": [
    "#definition of the matrix (random)\n",
    "I=np.eye(dim_matrix,dim_matrix)\n",
    "np.random.seed(1234)\n",
    "A=10*(np.random.rand(dim_matrix,dim_matrix)-0.5)\n",
    "A=0.5*(A+A.T)\n",
    "B=I\n",
    "if(generalized):\n",
    "    B=np.random.rand(dim_matrix,dim_matrix)\n",
    "    B=0.5*(B+B.T)+dim_matrix*I #random norm matrix\n",
    "#eigenvalue and eigenvector computation\n",
    "eval,evec=eigh(A,B)\n",
    "evec0=evec[::,0]\n",
    "print(\"First eignevalue = \",eval[0])\n",
    "print(\"First eigenvector= \",evec0)"
   ]
  },
  {
   "cell_type": "markdown",
   "id": "b0029227",
   "metadata": {},
   "source": [
    "Function for plotting"
   ]
  },
  {
   "cell_type": "code",
   "execution_count": 77,
   "id": "b99434b3",
   "metadata": {},
   "outputs": [],
   "source": [
    "devec=[0]\n",
    "deval=[0]\n",
    "dprec=[0]\n",
    "def plot(j,lam,v,prec):\n",
    "    sign=np.sign(v[0])*np.sign(evec0[0])\n",
    "    devec.append(-np.log10(np.sqrt(np.sum((v-sign*evec0)**2)))) #distance among the vectors\n",
    "    deval.append(-np.log10(abs(eval[0]-lam)))\n",
    "    dprec.append(-np.log10(prec))"
   ]
  },
  {
   "cell_type": "markdown",
   "id": "b01d4f27",
   "metadata": {},
   "source": [
    "First part of the algorithm: initial guess phase"
   ]
  },
  {
   "cell_type": "code",
   "execution_count": 78,
   "id": "ee9e5eb8",
   "metadata": {},
   "outputs": [
    {
     "name": "stdout",
     "output_type": "stream",
     "text": [
      "Iteration=  0 Starting eigenvalue = -0.34490331892386833\n",
      "Iteration=  1  old value=  -0.34490331892386833  new value=  -0.5937309554944015\n",
      "Iteration=  2  old value=  -0.5937309554944015  new value=  -0.5799133435224443\n",
      "End of the initial guess part\n",
      "Eigenvalue =  -0.5937309554944015\n",
      "Eigenvector=  [-0.07298306 -0.07298306 -0.07298306  0.03649153 -0.07298306  0.03649153\n",
      " -0.07298306  0.03649153  0.03649153  0.03649153 -0.07298306  0.03649153\n",
      " -0.07298306  0.03649153 -0.07298306 -0.07298306]\n",
      "Total annealing time=  0.034001199999999995 s\n",
      "Eigenvector error=  0.3005104542116169\n"
     ]
    }
   ],
   "source": [
    "lam=10**6\n",
    "if(not generalized):\n",
    "    tmp_lam=np.trace(A)/dim_matrix\n",
    "if(generalized):\n",
    "    w=2*(np.random.rand(dim_matrix)-0.5)\n",
    "    w=w/np.matmul(w,w.T)\n",
    "    tmp_lam=np.matmul(w.T,np.matmul(A,w))/np.matmul(w.T,np.matmul(B,w))\n",
    "tot_time=0                     #total annealing time\n",
    "print(\"Iteration= \",0,\"Starting eigenvalue =\", tmp_lam)\n",
    "j=0\n",
    "while tmp_lam < lam:\n",
    "    j=j+1\n",
    "    lam=tmp_lam\n",
    "    #Rewriting the matrix in binary form\n",
    "    QA=bin_matrix(A-lam*B,1) \n",
    "    #Transform our matrix in one managable by the D-wave                                                                                                              \n",
    "    A_bqm = dimod.BinaryQuadraticModel.from_qubo(QA,offset=0.0)\n",
    "    #Sampling simulator                                                                                                                                                        \n",
    "    if(not qpu_sampler):\n",
    "        sampleset = sampler.sample(A_bqm,num_reads=num_of_reads,beta_range=[0.1, 4.2],seed=3456)\n",
    "    #sampling with the D-wave \n",
    "    if(qpu_sampler):\n",
    "        sampleset = sampler.sample(A_bqm,num_reads=num_of_reads)\n",
    "        timing = sampleset.info['timing']\n",
    "        tot_time=tot_time+timing.get('qpu_access_time')\n",
    "    #Sample database                                                                                                                                                  \n",
    "    sample_len=len(sampleset.record.energy)\n",
    "    #selecting the state with energy zero                                                                                                                                                   \n",
    "    energy0=10**6\n",
    "    for i in range(sample_len):\n",
    "        energy=sampleset.record.energy[i]\n",
    "        if(energy<energy0):\n",
    "            energy0=energy\n",
    "            indx=i\n",
    "    if(zero_energy):                  #only state with zero energy is selected                                                                                     \n",
    "        x=np.array(sampleset.record.sample[indx])\n",
    "    else:                             #linear comination of the full response\n",
    "        E0=sampleset.record.energy[indx]\n",
    "        x=np.empty([dim_matrix*num_of_bits])\n",
    "        for i in range(sample_len):\n",
    "            x=x+sampleset.record.num_occurrences[i]*np.exp(-beta*(sampleset.record.energy[i]-E0))*sampleset.record.sample[i]\n",
    "        x=x/num_of_reads\n",
    "    if(np.matmul(x.T,x)<10**(-16)):   #if the best eigenvector is zero exit the loop\n",
    "        print(\"exit loop\")\n",
    "        break\n",
    "    tmp_v=np.matmul(P,x)                           #new eigenvector\n",
    "    tmp_v_norm=np.sqrt(np.matmul(tmp_v.T,np.matmul(B,tmp_v)))\n",
    "    tmp_v=tmp_v/tmp_v_norm\n",
    "    tmp_lam=np.matmul(tmp_v.T,np.matmul(A,tmp_v))/np.matmul(tmp_v.T,np.matmul(B,tmp_v))  #new eigenvalue\n",
    "    if(tmp_lam < lam):\n",
    "        v=tmp_v\n",
    "    print(\"Iteration= \",j,\" old value= \",lam,\" new value= \",tmp_lam)\n",
    "print(\"End of the initial guess part\")\n",
    "print(\"Eigenvalue = \",lam)\n",
    "print(\"Eigenvector= \",v)\n",
    "print(\"Total annealing time= \",tot_time/1000000, \"s\")\n",
    "#eigenvector error\n",
    "sign=np.sign(v[0])*np.sign(evec0[0])\n",
    "print(\"Eigenvector error= \",np.sqrt(np.sum((v-sign*evec0)**2)))"
   ]
  },
  {
   "cell_type": "markdown",
   "id": "6e2958a0",
   "metadata": {},
   "source": [
    "Iterative desendent phase"
   ]
  },
  {
   "cell_type": "code",
   "execution_count": 79,
   "id": "093eec3d",
   "metadata": {},
   "outputs": [
    {
     "name": "stdout",
     "output_type": "stream",
     "text": [
      "Iteration=  1  old value=  -0.5937309554944015  new value=  -0.6034516013869048\n",
      "Iteration=  2  old value=  -0.6034516013869048  new value=  -0.6099208954254434\n",
      "Iteration=  3  old value=  -0.6099208954254434  new value=  -0.649935299456731\n",
      "Iteration=  4  old value=  -0.649935299456731  new value=  -0.6758278414413179\n",
      "Iteration=  5  old value=  -0.6758278414413179  new value=  -0.6790244542427214\n",
      "Iteration=  6  old value=  -0.6790244542427214  new value=  -0.7065506197078181\n",
      "Iteration=  7 new precision =  0.010000000000000002\n",
      "Iteration=  8  old value=  -0.7065506197078181  new value=  -0.7474720056611773\n",
      "Iteration=  9  old value=  -0.7474720056611773  new value=  -0.7570254283939757\n",
      "Iteration=  10  old value=  -0.7570254283939757  new value=  -0.7603341298371101\n",
      "Iteration=  11  old value=  -0.7603341298371101  new value=  -0.7631355030863644\n",
      "Iteration=  12  old value=  -0.7631355030863644  new value=  -0.7646849010914104\n",
      "Iteration=  13  old value=  -0.7646849010914104  new value=  -0.7654700299611669\n",
      "Iteration=  14  old value=  -0.7654700299611669  new value=  -0.7655106402012397\n",
      "Iteration=  15  old value=  -0.7655106402012397  new value=  -0.7655473200789347\n",
      "Iteration=  16 new precision =  0.0010000000000000002\n",
      "Iteration=  17  old value=  -0.7655473200789347  new value=  -0.7660540913990137\n",
      "Iteration=  18  old value=  -0.7660540913990137  new value=  -0.7662548787023931\n",
      "Iteration=  19  old value=  -0.7662548787023931  new value=  -0.7663333525684225\n",
      "Iteration=  20  old value=  -0.7663333525684225  new value=  -0.7663810932783566\n",
      "Iteration=  21  old value=  -0.7663810932783566  new value=  -0.7664169045084356\n",
      "Iteration=  22  old value=  -0.7664169045084356  new value=  -0.7664299770132812\n",
      "Iteration=  23  old value=  -0.7664299770132812  new value=  -0.7664354346706241\n",
      "Iteration=  24  old value=  -0.7664354346706241  new value=  -0.7664502582104086\n",
      "Iteration=  25  old value=  -0.7664502582104086  new value=  -0.7664508308594957\n",
      "Iteration=  26  old value=  -0.7664508308594957  new value=  -0.766453276714044\n",
      "Iteration=  27 new precision =  0.00010000000000000003\n",
      "Final values\n",
      "Eigenvalue =  -0.766453276714044\n",
      "Eigenvector=  [-0.06776453  0.10533385  0.02523665 -0.03462972  0.04655402 -0.06311496\n",
      " -0.04188168  0.02080284  0.03519365  0.0714719  -0.07725509 -0.02997687\n",
      " -0.05242316  0.11497922 -0.0888042   0.00069521]\n",
      "Total annealing time=  0.47698236  s\n"
     ]
    }
   ],
   "source": [
    "j=0\n",
    "precision=0.1                     #precision\n",
    "tot_time=0\n",
    "while precision > epsilon_tol:                                                                                                                                                          \n",
    "    j=j+1\n",
    "    #Preparing the descendent direction\n",
    "    H=A-lam*B\n",
    "    vH=2.0*np.matmul(v.T,H)    \n",
    "    QH=bin_matrix(H,precision)\n",
    "    QvH=bin_vector(vH,precision)\n",
    "    for i in range(dim_matrix*num_of_bits):\n",
    "        QH[i][i]=QH[i][i]+QvH[i]\n",
    "    #Transform our matrix in one managable by the D-wave                                                                                                              \n",
    "    A_bqm = dimod.BinaryQuadraticModel.from_qubo(QH,offset=0.0)\n",
    "    #Sampling\n",
    "    if(not qpu_sampler):\n",
    "        sampleset = sampler.sample(A_bqm,num_reads=num_of_reads,beta_range=[0.1, 4.2],seed=3456)\n",
    "    if(qpu_sampler):\n",
    "        sampleset = sampler.sample(A_bqm,num_reads=num_of_reads)\n",
    "        #time\n",
    "        timing = sampleset.info['timing']\n",
    "        tot_time=tot_time+timing.get('qpu_access_time')\n",
    "    #Select the zero energy state                                                                                                                                                   \n",
    "    energy0=10**6\n",
    "    sample_len=len(sampleset.record.energy)\n",
    "    #selecting the state with energy zero                                                                                                                                                   \n",
    "    energy0=10**6\n",
    "    for i in range(sample_len):\n",
    "        energy=sampleset.record.energy[i]\n",
    "        if(energy<energy0):\n",
    "            energy0=energy\n",
    "            indx=i\n",
    "    #only state with zero energy is selected                                                                                     \n",
    "    x=np.array(sampleset.record.sample[indx])\n",
    "    delta=precision*np.matmul(P,x)       #delta vector\n",
    "    delta=delta-np.matmul(delta.T,v)*v   #selcting the orthogonal part\n",
    "    #Line search step\n",
    "    Hd=np.matmul(H,delta)                                                                                                                          \n",
    "    if(np.matmul(delta.T,delta)<10**(-16)):                                                                                                                              \n",
    "        precision=precision*0.1\n",
    "        plot(j,lam,v,precision)\n",
    "        print(\"Iteration= \",j,\"new precision = \",precision)\n",
    "        continue\n",
    "    tmin=-np.matmul(v.T,Hd)/np.matmul(delta,Hd)\n",
    "    tmin=max(tmin,1)                                                                                                                                     \n",
    "    delta=delta*tmin\n",
    "    #new eigenvector\n",
    "    tmp_v=v+delta\n",
    "    tmp_norm=np.sqrt(np.matmul(tmp_v.T,np.matmul(B,tmp_v)))\n",
    "    tmp_v=tmp_v/tmp_norm\n",
    "    #new eigenvalue\n",
    "    tmp_lam=np.matmul(tmp_v.T,np.matmul(A,tmp_v))/np.matmul(tmp_v.T,np.matmul(B,tmp_v))\n",
    "    if(tmp_lam<lam):\n",
    "        v=tmp_v\n",
    "        print(\"Iteration= \",j,\" old value= \",lam,\" new value= \",tmp_lam)\n",
    "        lam=tmp_lam\n",
    "        plot(j,lam,v,precision)\n",
    "    else:\n",
    "        precision=precision*0.1\n",
    "        print(\"Iteration= \",j,\"new precision = \",precision)\n",
    "        plot(j,lam,v,precision)\n",
    "print(\"Final values\")\n",
    "print(\"Eigenvalue = \",lam)\n",
    "print(\"Eigenvector= \",v)\n",
    "print(\"Total annealing time= \",tot_time/1000000,\" s\")"
   ]
  },
  {
   "cell_type": "markdown",
   "id": "9cb57735",
   "metadata": {},
   "source": [
    "Plotting"
   ]
  },
  {
   "cell_type": "code",
   "execution_count": 80,
   "id": "b6a0671c",
   "metadata": {},
   "outputs": [
    {
     "data": {
      "text/plain": [
       "<function matplotlib.pyplot.show(close=None, block=None)>"
      ]
     },
     "execution_count": 80,
     "metadata": {},
     "output_type": "execute_result"
    },
    {
     "data": {
      "image/png": "[encoded data removed]",
      "text/plain": [
       "<Figure size 432x288 with 1 Axes>"
      ]
     },
     "metadata": {
      "needs_background": "light"
     },
     "output_type": "display_data"
    }
   ],
   "source": [
    "plt.plot(devec,label='eigvec prec')\n",
    "plt.plot(deval,label='eigval prec')\n",
    "plt.plot(dprec,label='precision')\n",
    "plt.legend()\n",
    "plt.xlabel(\"Iterations\")\n",
    "plt.ylabel(\"Precision\")\n",
    "plt.show"
   ]
  },
  {
   "cell_type": "code",
   "execution_count": null,
   "id": "7e302e82",
   "metadata": {},
   "outputs": [],
   "source": []
  }
 ],
 "metadata": {
  "kernelspec": {
   "display_name": "ocean",
   "language": "python",
   "name": "ocean"
  },
  "language_info": {
   "codemirror_mode": {
    "name": "ipython",
    "version": 3
   },
   "file_extension": ".py",
   "mimetype": "text/x-python",
   "name": "python",
   "nbconvert_exporter": "python",
   "pygments_lexer": "ipython3",
   "version": "3.8.10"
  }
 },
 "nbformat": 4,
 "nbformat_minor": 5
}
